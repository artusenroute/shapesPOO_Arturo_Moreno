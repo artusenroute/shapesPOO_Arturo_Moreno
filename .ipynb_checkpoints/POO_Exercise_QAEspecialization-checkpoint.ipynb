{
 "cells": [
  {
   "cell_type": "code",
   "execution_count": 2,
   "id": "b21ae0e5",
   "metadata": {},
   "outputs": [],
   "source": [
    "#Create the class Shape\n",
    "class Shape():\n",
    "    def __init__(self,color = 'red', filled = True):\n",
    "        self._color = color\n",
    "        self._filled = filled\n",
    "    \n",
    "    def getColor(self):\n",
    "        return self._color\n",
    "    \n",
    "    def setColor(self, color):\n",
    "        self._color = color\n",
    "        \n",
    "    def isFilled(self):\n",
    "        return self.filled\n",
    "    \n",
    "    def setFilled(self, filled):\n",
    "        self._filled = filled\n",
    "        \n",
    "    def __str__(self):\n",
    "        try:\n",
    "            shape = 'Color? :'+self._color +', '+'Is filled? :'+str(self._filled)+ \", This Radios: \"+str(self._radius)\n",
    "        except:\n",
    "            try:\n",
    "                shape = 'Color? :'+self._color +', '+'Is filled? :'+str(self._filled)+ \", This widht: \"+str(self._width)+ \", This lenght: \"+str(self._lenght)\n",
    "            except:\n",
    "                shape = 'Color? :'+self._color +', '+'Is filled? :'+str(self._filled)\n",
    "        return shape    "
   ]
  },
  {
   "cell_type": "code",
   "execution_count": 3,
   "id": "df5a1628",
   "metadata": {},
   "outputs": [
    {
     "name": "stdout",
     "output_type": "stream",
     "text": [
      "Color? :red, Is filled? :True\n"
     ]
    }
   ],
   "source": [
    "#Get Shape\n",
    "if __name__ == '__main__':\n",
    "    shape = Shape()\n",
    "    print(shape)"
   ]
  },
  {
   "cell_type": "code",
   "execution_count": 4,
   "id": "73ba66ab",
   "metadata": {},
   "outputs": [],
   "source": [
    "#Create class Circle that extends Shape\n",
    "class Circle(Shape):\n",
    "    def __init__(self, radius = 1.0):\n",
    "        self._radius = radius\n",
    "        super().__init__(\"black\", False)\n",
    "    \n",
    "    def getRadius(self):\n",
    "        return self._radius\n",
    "    \n",
    "    def setRadius(self, radius):\n",
    "        self._radius = radius\n",
    "    \n",
    "    def getArea(self):\n",
    "        return 3.1416 * int(self._radius)**2\n",
    "    \n",
    "    def getPerimeter(self):\n",
    "        return 3.1416 * int(self._radius)*2 "
   ]
  },
  {
   "cell_type": "code",
   "execution_count": 5,
   "id": "11f5712f",
   "metadata": {},
   "outputs": [
    {
     "name": "stdout",
     "output_type": "stream",
     "text": [
      "Color? :black, Is filled? :False, This Radios: 1.0\n"
     ]
    }
   ],
   "source": [
    "#Get Circle\n",
    "if __name__ == '__main__':\n",
    "    circle = Circle()\n",
    "    print(circle)"
   ]
  },
  {
   "cell_type": "code",
   "execution_count": 6,
   "id": "10a984c6",
   "metadata": {},
   "outputs": [
    {
     "name": "stdout",
     "output_type": "stream",
     "text": [
      "50.2656\n"
     ]
    }
   ],
   "source": [
    "#Get Circle Area\n",
    "if __name__ == '__main__':\n",
    "    circle = Circle(radius = 4)\n",
    "    print(circle.getArea())"
   ]
  },
  {
   "cell_type": "code",
   "execution_count": 7,
   "id": "550c2ea7",
   "metadata": {},
   "outputs": [
    {
     "name": "stdout",
     "output_type": "stream",
     "text": [
      "25.1328\n"
     ]
    }
   ],
   "source": [
    "#Get Circle Perimeter\n",
    "if __name__ == '__main__':\n",
    "    circle = Circle(radius = 4)\n",
    "    print(circle.getPerimeter())"
   ]
  },
  {
   "cell_type": "code",
   "execution_count": 8,
   "id": "4e9e6b85",
   "metadata": {},
   "outputs": [],
   "source": [
    "#Create class Rectangle that extends Shape\n",
    "class Rectangle(Shape):\n",
    "    def __init__(self, width = 1.0, lenght = 1.0):\n",
    "        self._width = width\n",
    "        self._lenght = lenght\n",
    "        super().__init__(\"yellow\", True)\n",
    "        \n",
    "    def getwidth(self):\n",
    "        return self._width\n",
    "    \n",
    "    def getLenght(self):\n",
    "        return self._lenght\n",
    "    \n",
    "    def setWidth(self, width):\n",
    "        self._width = width\n",
    "    \n",
    "    def setLenght(self, lenght):\n",
    "        self._lenght = lenght\n",
    "    \n",
    "    def getArea(self):\n",
    "        return int(self._width * self._lenght)\n",
    "    \n",
    "    def getPerimeter(self):\n",
    "        return (int(self._width)*2)+(int(self._lenght)*2)\n",
    "    "
   ]
  },
  {
   "cell_type": "code",
   "execution_count": 9,
   "id": "b036bdd5",
   "metadata": {},
   "outputs": [
    {
     "name": "stdout",
     "output_type": "stream",
     "text": [
      "Color? :yellow, Is filled? :True, This widht: 1.0, This lenght: 1.0\n"
     ]
    }
   ],
   "source": [
    "#Get Rectangle\n",
    "if __name__ == '__main__':\n",
    "    retangle = Rectangle()\n",
    "    print(retangle)"
   ]
  },
  {
   "cell_type": "code",
   "execution_count": 10,
   "id": "f169e64b",
   "metadata": {},
   "outputs": [
    {
     "name": "stdout",
     "output_type": "stream",
     "text": [
      "20\n"
     ]
    }
   ],
   "source": [
    "#Get Rectangle Area\n",
    "if __name__ == '__main__':\n",
    "    rectangle = Rectangle(width= 5, lenght=4)\n",
    "    print(rectangle.getArea())"
   ]
  },
  {
   "cell_type": "code",
   "execution_count": 11,
   "id": "662b0b54",
   "metadata": {},
   "outputs": [
    {
     "name": "stdout",
     "output_type": "stream",
     "text": [
      "18\n"
     ]
    }
   ],
   "source": [
    "#Get Rectangle Perimeter\n",
    "if __name__ == '__main__':\n",
    "    rectangle = Rectangle(width= 5, lenght=4)\n",
    "    print(rectangle.getPerimeter())"
   ]
  },
  {
   "cell_type": "code",
   "execution_count": 12,
   "id": "98087d63",
   "metadata": {},
   "outputs": [],
   "source": [
    "#Create class Square  that extends Rectangle\n",
    "class Square(Rectangle):   \n",
    "        \n",
    "    def getSide(self):\n",
    "        return self._width\n",
    "    \n",
    "    def setSide(self, side):\n",
    "        self._width = side\n",
    "        \n",
    "    def setWidth(self):\n",
    "        self._width = width\n",
    "    \n",
    "    def setLenght(self):\n",
    "        self._lenght = lenght\n",
    "    \n",
    "    "
   ]
  },
  {
   "cell_type": "code",
   "execution_count": 13,
   "id": "011dfcd4",
   "metadata": {},
   "outputs": [
    {
     "name": "stdout",
     "output_type": "stream",
     "text": [
      "Color? :yellow, Is filled? :True, This widht: 1.0, This lenght: 1.0\n"
     ]
    }
   ],
   "source": [
    "#Get Square\n",
    "if __name__ == '__main__':\n",
    "    square = Square()\n",
    "    print(square)"
   ]
  },
  {
   "cell_type": "code",
   "execution_count": 14,
   "id": "d02abea9",
   "metadata": {},
   "outputs": [
    {
     "name": "stdout",
     "output_type": "stream",
     "text": [
      "1.0\n"
     ]
    }
   ],
   "source": [
    "#Get Square Side\n",
    "if __name__ == '__main__':\n",
    "    square = Square()\n",
    "    print(square.getSide())"
   ]
  },
  {
   "cell_type": "code",
   "execution_count": 15,
   "id": "ba14b2c2",
   "metadata": {},
   "outputs": [
    {
     "name": "stdout",
     "output_type": "stream",
     "text": [
      "2\n"
     ]
    }
   ],
   "source": [
    "#Set Square Side\n",
    "if __name__ == '__main__':\n",
    "    square = Square()\n",
    "    square.setSide(2)\n",
    "    print(square.getSide())"
   ]
  },
  {
   "cell_type": "code",
   "execution_count": 26,
   "id": "ca58ce0b",
   "metadata": {},
   "outputs": [],
   "source": [
    "import numpy as np\n",
    "#Create class Equilateral Triangle that extends Shape\n",
    "class EqTrian(Shape):\n",
    "    def __init__(self, sideLenght = 1.0):\n",
    "        self._sideLenght = sideLenght\n",
    "        super().__init__(\"black\", False)\n",
    "    \n",
    "    def getSideLenght(self):\n",
    "        return self._sideLenght\n",
    "    \n",
    "    def setSideLenght(self, radius):\n",
    "        self._sideLenght = sideLenght\n",
    "    \n",
    "    def getArea(self):\n",
    "        hsquare = (self._sideLenght**2) - ((self._sideLenght/2)**2)\n",
    "        h = np.sqrt(hsquare)\n",
    "        return h * self._sideLenght / 2\n",
    "    \n",
    "    def getPerimeter(self):\n",
    "        return self._sideLenght * 3 "
   ]
  },
  {
   "cell_type": "code",
   "execution_count": 27,
   "id": "d8615b33",
   "metadata": {},
   "outputs": [
    {
     "name": "stdout",
     "output_type": "stream",
     "text": [
      "1.0\n"
     ]
    }
   ],
   "source": [
    "if __name__ == '__main__':\n",
    "    triangle = EqTrian()\n",
    "    print(triangle.getSideLenght())"
   ]
  },
  {
   "cell_type": "code",
   "execution_count": 29,
   "id": "1ae3cae2",
   "metadata": {},
   "outputs": [
    {
     "name": "stdout",
     "output_type": "stream",
     "text": [
      "3.897114317029974\n"
     ]
    }
   ],
   "source": [
    "#Get Triangle Area\n",
    "if __name__ == '__main__':\n",
    "    triangle = EqTrian(sideLenght= 3)\n",
    "    print(triangle.getArea())"
   ]
  },
  {
   "cell_type": "code",
   "execution_count": 30,
   "id": "64eec30b",
   "metadata": {},
   "outputs": [
    {
     "name": "stdout",
     "output_type": "stream",
     "text": [
      "27\n"
     ]
    }
   ],
   "source": [
    "#Get Triangle Perimeter\n",
    "if __name__ == '__main__':\n",
    "    triangle = EqTrian(sideLenght= 9)\n",
    "    print(triangle.getPerimeter())"
   ]
  },
  {
   "cell_type": "code",
   "execution_count": null,
   "id": "344820da",
   "metadata": {},
   "outputs": [],
   "source": []
  }
 ],
 "metadata": {
  "kernelspec": {
   "display_name": "Python 3 (ipykernel)",
   "language": "python",
   "name": "python3"
  },
  "language_info": {
   "codemirror_mode": {
    "name": "ipython",
    "version": 3
   },
   "file_extension": ".py",
   "mimetype": "text/x-python",
   "name": "python",
   "nbconvert_exporter": "python",
   "pygments_lexer": "ipython3",
   "version": "3.9.12"
  }
 },
 "nbformat": 4,
 "nbformat_minor": 5
}
